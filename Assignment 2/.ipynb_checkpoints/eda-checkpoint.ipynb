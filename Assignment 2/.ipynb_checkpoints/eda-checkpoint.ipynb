{
 "cells": [
  {
   "cell_type": "code",
   "execution_count": 40,
   "metadata": {
    "collapsed": false
   },
   "outputs": [],
   "source": [
    "import pandas as pd\n",
    "import matplotlib.pyplot as plt\n",
    "import matplotlib\n",
    "%matplotlib inline\n",
    "matplotlib.style.use('ggplot')\n",
    "plt.rcParams['figure.figsize'] = (15, 5)"
   ]
  },
  {
   "cell_type": "code",
   "execution_count": 2,
   "metadata": {
    "collapsed": false
   },
   "outputs": [
    {
     "name": "stdout",
     "output_type": "stream",
     "text": [
      "                  date            time  \\\n",
      "0  2012-10-16 00:00:00  10:28:53-05:00   \n",
      "1  2012-10-16 00:00:00  10:04:30-05:00   \n",
      "2  2012-10-16 00:00:00  09:50:08-05:00   \n",
      "3  2012-10-16 00:00:00  10:00:16-05:00   \n",
      "4  2012-10-16 00:00:00  09:48:07-05:00   \n",
      "\n",
      "                                                text sentiment  \n",
      "0  Kirkpatrick, who wore a baseball cap embroider...         0  \n",
      "1  #<e>obama</e> debates that Cracker Ass Cracker...         1  \n",
      "2  @Hollivan @hereistheanswer  Youre missing the ...         0  \n",
      "3  I was raised as a Democrat  left the party yea...        -1  \n",
      "4  The <e>Obama camp</e> can't afford to lower ex...         0  \n"
     ]
    }
   ],
   "source": [
    "# read the data\n",
    "data = pd.read_excel('training-Obama-Romney-tweets.xlsx',names = ['date','time','text','sentiment'],parse_cols = 4)\n",
    "data = data.iloc[1:]\n",
    "data['text'] = data['text'].values.astype('unicode')\n",
    "data['date'] = data['date'].values.astype('str')\n",
    "data['time'] = data['time'].values.astype('str')\n",
    "# remove rows with mixed sentiment\n",
    "data = data[data['sentiment'] < 2]\n",
    "data.index = range(len(data))\n",
    "print data.head()"
   ]
  },
  {
   "cell_type": "code",
   "execution_count": 3,
   "metadata": {
    "collapsed": false
   },
   "outputs": [
    {
     "name": "stdout",
     "output_type": "stream",
     "text": [
      "<class 'pandas.core.frame.DataFrame'>\n",
      "Int64Index: 5471 entries, 0 to 5470\n",
      "Data columns (total 4 columns):\n",
      "date         5471 non-null object\n",
      "time         5471 non-null object\n",
      "text         5471 non-null object\n",
      "sentiment    5471 non-null object\n",
      "dtypes: object(4)\n",
      "memory usage: 213.7+ KB\n"
     ]
    }
   ],
   "source": [
    "data.info()"
   ]
  },
  {
   "cell_type": "code",
   "execution_count": 4,
   "metadata": {
    "collapsed": false
   },
   "outputs": [
    {
     "data": {
      "text/html": [
       "<div>\n",
       "<table border=\"1\" class=\"dataframe\">\n",
       "  <thead>\n",
       "    <tr style=\"text-align: right;\">\n",
       "      <th></th>\n",
       "      <th>date</th>\n",
       "      <th>time</th>\n",
       "      <th>text</th>\n",
       "      <th>sentiment</th>\n",
       "    </tr>\n",
       "  </thead>\n",
       "  <tbody>\n",
       "    <tr>\n",
       "      <th>count</th>\n",
       "      <td>5471</td>\n",
       "      <td>5471</td>\n",
       "      <td>5471</td>\n",
       "      <td>5471</td>\n",
       "    </tr>\n",
       "    <tr>\n",
       "      <th>unique</th>\n",
       "      <td>29</td>\n",
       "      <td>5139</td>\n",
       "      <td>5453</td>\n",
       "      <td>3</td>\n",
       "    </tr>\n",
       "    <tr>\n",
       "      <th>top</th>\n",
       "      <td>2012-10-16 00:00:00</td>\n",
       "      <td>nan</td>\n",
       "      <td>I just knew it...&lt;e&gt;Obama&lt;/e&gt; was born in Indo...</td>\n",
       "      <td>-1</td>\n",
       "    </tr>\n",
       "    <tr>\n",
       "      <th>freq</th>\n",
       "      <td>1292</td>\n",
       "      <td>5</td>\n",
       "      <td>3</td>\n",
       "      <td>1922</td>\n",
       "    </tr>\n",
       "  </tbody>\n",
       "</table>\n",
       "</div>"
      ],
      "text/plain": [
       "                       date  time  \\\n",
       "count                  5471  5471   \n",
       "unique                   29  5139   \n",
       "top     2012-10-16 00:00:00   nan   \n",
       "freq                   1292     5   \n",
       "\n",
       "                                                     text  sentiment  \n",
       "count                                                5471       5471  \n",
       "unique                                               5453          3  \n",
       "top     I just knew it...<e>Obama</e> was born in Indo...         -1  \n",
       "freq                                                    3       1922  "
      ]
     },
     "execution_count": 4,
     "metadata": {},
     "output_type": "execute_result"
    }
   ],
   "source": [
    "data.describe()"
   ]
  },
  {
   "cell_type": "code",
   "execution_count": 5,
   "metadata": {
    "collapsed": false
   },
   "outputs": [],
   "source": [
    "import re\n",
    "\n",
    "# remove punctuations\n",
    "punc = ['\\:','\\;','\\?','\\$','\\.','\\(','\\)']\n",
    "cond_1 = re.compile('|'.join(punc))\n",
    "data['text'] = data['text'].apply(lambda x : re.sub(cond_1,'',x))\n",
    "# remove tags\n",
    "tags = ['<a>','</a>','<e>','</e>']\n",
    "cond_2 = re.compile(\"|\".join(tags))\n",
    "data['text'] = data['text'].apply(lambda x : re.sub(cond_2,'',x))"
   ]
  },
  {
   "cell_type": "code",
   "execution_count": 6,
   "metadata": {
    "collapsed": false
   },
   "outputs": [],
   "source": [
    "def extract_date(pattern,string):\n",
    "    temp = re.match(pattern,string)\n",
    "    if temp:\n",
    "        return temp.group(1)\n",
    "    else:\n",
    "        return string\n",
    "# clean date\n",
    "date_format_1 = re.compile('\\d+/(\\d{2})/\\d+')\n",
    "date_format_2 = re.compile('\\d+\\-\\d+\\-(\\d{2})')\n",
    "date_format_3 = re.compile('(\\d{2})\\-[a-zA-Z]+\\-\\d+')\n",
    "date_format = [date_format_1] + [date_format_2] + [date_format_3]\n",
    "\n",
    "# remove whitespace\n",
    "data['date'] = data['date'].apply(lambda x : x.replace(' ',''))\n",
    "\n",
    "for i in date_format:\n",
    "    data['date'] = data['date'].apply(lambda x: extract_date(i,x))\n",
    "\n",
    "def converter(first,second):\n",
    "    if first == 'AM':\n",
    "        return second\n",
    "    else:\n",
    "        val = re.findall('(\\d{1,2})',second)[0]\n",
    "        if int(val) > 12:\n",
    "            val = str(int(val) + 12)\n",
    "        return re.sub('\\d{1,2}',val,second,1)\n",
    "    \n",
    "def extract_time(pattern,string):\n",
    "\n",
    "    temp = re.match(pattern,string)\n",
    "    if temp:\n",
    "        first = temp.group(1)\n",
    "        second = temp.group(2)\n",
    "        third = temp.group(3)\n",
    "        \n",
    "        if first is None and third is None:\n",
    "            return second\n",
    "        \n",
    "        if first == 'AM' or first == 'PM':\n",
    "            return converter(first,second)\n",
    "        else:\n",
    "            return converter(third,second)\n",
    "\n",
    "# clean time\n",
    "time_format_1 = re.compile('(AM|PM)?\\s?(\\d{1,2}:\\d{1,2}:\\d{1,2})\\s?(AM|PM)?')\n",
    "\n",
    "# remove whitespace\n",
    "data['time'] = data['time'].apply(lambda x : x.replace(' ',''))\n",
    "\n",
    "data['time'] = data['time'].apply(lambda x : extract_time(time_format_1,x))\n",
    "data['time'] = pd.to_datetime(data['time'], format='%H:%M:%S')"
   ]
  },
  {
   "cell_type": "code",
   "execution_count": 43,
   "metadata": {
    "collapsed": false
   },
   "outputs": [
    {
     "name": "stdout",
     "output_type": "stream",
     "text": [
      "-1    1922\n",
      " 0    1896\n",
      " 1    1653\n",
      "Name: sentiment, dtype: int64\n"
     ]
    },
    {
     "data": {
      "text/plain": [
       "<matplotlib.axes._subplots.AxesSubplot at 0x7f4f89c73b10>"
      ]
     },
     "execution_count": 43,
     "metadata": {},
     "output_type": "execute_result"
    },
    {
     "data": {
      "image/png": "[encoded data removed]",
      "text/plain": [
       "<matplotlib.figure.Figure at 0x7f4f89b185d0>"
      ]
     },
     "metadata": {},
     "output_type": "display_data"
    }
   ],
   "source": [
    "# distribution of sentiment\n",
    "print data['sentiment'].value_counts()\n",
    "data['sentiment'].hist()"
   ]
  },
  {
   "cell_type": "code",
   "execution_count": 42,
   "metadata": {
    "collapsed": false
   },
   "outputs": [
    {
     "data": {
      "text/plain": [
       "<matplotlib.axes._subplots.AxesSubplot at 0x7f4f89c3aa90>"
      ]
     },
     "execution_count": 42,
     "metadata": {},
     "output_type": "execute_result"
    },
    {
     "data": {
      "image/png": "[encoded data removed]",
      "text/plain": [
       "<matplotlib.figure.Figure at 0x7f4f89c4e110>"
      ]
     },
     "metadata": {},
     "output_type": "display_data"
    }
   ],
   "source": [
    "# tweets distribution over time\n",
    "data['time'].hist(bins = 20)"
   ]
  },
  {
   "cell_type": "code",
   "execution_count": 41,
   "metadata": {
    "collapsed": false,
    "scrolled": true
   },
   "outputs": [
    {
     "data": {
      "text/plain": [
       "array([[<matplotlib.axes._subplots.AxesSubplot object at 0x7f4f8a127590>,\n",
       "        <matplotlib.axes._subplots.AxesSubplot object at 0x7f4f89f29950>],\n",
       "       [<matplotlib.axes._subplots.AxesSubplot object at 0x7f4f89eb9090>,\n",
       "        <matplotlib.axes._subplots.AxesSubplot object at 0x7f4f89e4f7d0>]], dtype=object)"
      ]
     },
     "execution_count": 41,
     "metadata": {},
     "output_type": "execute_result"
    },
    {
     "data": {
      "image/png": "[encoded data removed]",
      "text/plain": [
       "<matplotlib.figure.Figure at 0x7f4f8aa38110>"
      ]
     },
     "metadata": {},
     "output_type": "display_data"
    }
   ],
   "source": [
    "# plot sentiment over time\n",
    "sentiment_val = data['sentiment'].unique()\n",
    "\n",
    "data['time'].dt.hour.hist(by = data['sentiment'],bins = 20)"
   ]
  },
  {
   "cell_type": "code",
   "execution_count": null,
   "metadata": {
    "collapsed": false,
    "scrolled": true
   },
   "outputs": [],
   "source": []
  },
  {
   "cell_type": "code",
   "execution_count": null,
   "metadata": {
    "collapsed": true
   },
   "outputs": [],
   "source": []
  }
 ],
 "metadata": {
  "kernelspec": {
   "display_name": "Python 2",
   "language": "python",
   "name": "python2"
  },
  "language_info": {
   "codemirror_mode": {
    "name": "ipython",
    "version": 2
   },
   "file_extension": ".py",
   "mimetype": "text/x-python",
   "name": "python",
   "nbconvert_exporter": "python",
   "pygments_lexer": "ipython2",
   "version": "2.7.6"
  }
 },
 "nbformat": 4,
 "nbformat_minor": 0
}
