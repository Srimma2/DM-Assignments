{
 "cells": [
  {
   "cell_type": "code",
   "execution_count": 165,
   "metadata": {
    "collapsed": false
   },
   "outputs": [],
   "source": [
    "import sys,os\n",
    "import pandas as pd\n",
    "import numpy as np\n",
    "import matplotlib.pyplot as plt\n",
    "import matplotlib\n",
    "%matplotlib inline\n",
    "matplotlib.style.use('ggplot')\n",
    "plt.rcParams['figure.figsize'] = (15, 5)"
   ]
  },
  {
   "cell_type": "code",
   "execution_count": 166,
   "metadata": {
    "collapsed": false,
    "scrolled": true
   },
   "outputs": [
    {
     "name": "stderr",
     "output_type": "stream",
     "text": [
      "/usr/local/lib/python2.7/dist-packages/ipykernel/__main__.py:8: SettingWithCopyWarning: \n",
      "A value is trying to be set on a copy of a slice from a DataFrame.\n",
      "Try using .loc[row_indexer,col_indexer] = value instead\n",
      "\n",
      "See the caveats in the documentation: http://pandas.pydata.org/pandas-docs/stable/indexing.html#indexing-view-versus-copy\n",
      "/usr/local/lib/python2.7/dist-packages/ipykernel/__main__.py:9: SettingWithCopyWarning: \n",
      "A value is trying to be set on a copy of a slice from a DataFrame.\n",
      "Try using .loc[row_indexer,col_indexer] = value instead\n",
      "\n",
      "See the caveats in the documentation: http://pandas.pydata.org/pandas-docs/stable/indexing.html#indexing-view-versus-copy\n",
      "/usr/local/lib/python2.7/dist-packages/ipykernel/__main__.py:10: SettingWithCopyWarning: \n",
      "A value is trying to be set on a copy of a slice from a DataFrame.\n",
      "Try using .loc[row_indexer,col_indexer] = value instead\n",
      "\n",
      "See the caveats in the documentation: http://pandas.pydata.org/pandas-docs/stable/indexing.html#indexing-view-versus-copy\n"
     ]
    },
    {
     "name": "stdout",
     "output_type": "stream",
     "text": [
      "                  date            time  \\\n",
      "0  2012-10-16 00:00:00  10:28:53-05:00   \n",
      "1  2012-10-16 00:00:00  10:04:30-05:00   \n",
      "2  2012-10-16 00:00:00  09:50:08-05:00   \n",
      "3  2012-10-16 00:00:00  10:00:16-05:00   \n",
      "4  2012-10-16 00:00:00  09:48:07-05:00   \n",
      "\n",
      "                                                text sentiment  \n",
      "0  Kirkpatrick, who wore a baseball cap embroider...         0  \n",
      "1  #<e>obama</e> debates that Cracker Ass Cracker...         1  \n",
      "2  @Hollivan @hereistheanswer  Youre missing the ...         0  \n",
      "3  I was raised as a Democrat  left the party yea...        -1  \n",
      "4  The <e>Obama camp</e> can't afford to lower ex...         0  \n",
      "                  date            time  \\\n",
      "0  2012-10-16 00:00:00  09:38:08-05:00   \n",
      "1  2012-10-16 00:00:00  10:14:18-05:00   \n",
      "2  2012-10-16 00:00:00  09:27:16-05:00   \n",
      "3  2012-10-16 00:00:00  10:11:43-05:00   \n",
      "4  2012-10-16 00:00:00  10:13:17-05:00   \n",
      "\n",
      "                                                text sentiment  \n",
      "0  Insidious!<e>Mitt Romney</e>'s Bain Helped Phi...        -1  \n",
      "1  .@WardBrenda @shortwave8669 @allanbourdius you...        -1  \n",
      "2  <e>Mitt Romney</e> still doesn't <a>believe</a...        -1  \n",
      "3  <e>Romney</e>'s <a>tax plan</a> deserves a 2nd...        -1  \n",
      "4  Hope <e>Romney</e> debate prepped w/ the same ...         1  \n"
     ]
    }
   ],
   "source": [
    "# read the data\n",
    "obama_data = pd.read_excel('training-Obama-Romney-tweets.xlsx',names = ['date','time','text','sentiment'],parse_cols = 4,sheetname = 'Obama')\n",
    "romney_data = pd.read_excel('training-Obama-Romney-tweets.xlsx',names = ['date','time','text','sentiment'],parse_cols = 4,sheetname = 'Romney')\n",
    "\n",
    "def get_data(data):\n",
    "    \"\"\" get and clean the data \"\"\"\n",
    "    data = data.iloc[1:]\n",
    "    data['text'] = data['text'].values.astype('unicode')\n",
    "    data['date'] = data['date'].values.astype('str')\n",
    "    data['time'] = data['time'].values.astype('unicode')\n",
    "    # remove rows with mixed sentiment\n",
    "    data = data[data['sentiment'] < 2]\n",
    "    data.index = range(len(data))\n",
    "    \n",
    "    return data\n",
    "\n",
    "obama_data = get_data(obama_data)\n",
    "romney_data = get_data(romney_data)\n",
    "    \n",
    "print obama_data.head()\n",
    "print romney_data.head()"
   ]
  },
  {
   "cell_type": "code",
   "execution_count": 167,
   "metadata": {
    "collapsed": false,
    "scrolled": true
   },
   "outputs": [
    {
     "name": "stdout",
     "output_type": "stream",
     "text": [
      "<class 'pandas.core.frame.DataFrame'>\n",
      "Int64Index: 5471 entries, 0 to 5470\n",
      "Data columns (total 4 columns):\n",
      "date         5471 non-null object\n",
      "time         5471 non-null object\n",
      "text         5471 non-null object\n",
      "sentiment    5471 non-null object\n",
      "dtypes: object(4)\n",
      "memory usage: 213.7+ KB\n",
      "None\n",
      "                       date  time  \\\n",
      "count                  5471  5471   \n",
      "unique                   29  5139   \n",
      "top     2012-10-16 00:00:00   nan   \n",
      "freq                   1292     5   \n",
      "\n",
      "                                                     text  sentiment  \n",
      "count                                                5471       5471  \n",
      "unique                                               5453          3  \n",
      "top     I just knew it...<e>Obama</e> was born in Indo...         -1  \n",
      "freq                                                    3       1922  \n"
     ]
    }
   ],
   "source": [
    "print obama_data.info()\n",
    "print obama_data.describe()"
   ]
  },
  {
   "cell_type": "code",
   "execution_count": 168,
   "metadata": {
    "collapsed": false,
    "scrolled": true
   },
   "outputs": [
    {
     "name": "stdout",
     "output_type": "stream",
     "text": [
      "<class 'pandas.core.frame.DataFrame'>\n",
      "Int64Index: 5648 entries, 0 to 5647\n",
      "Data columns (total 4 columns):\n",
      "date         5648 non-null object\n",
      "time         5648 non-null object\n",
      "text         5648 non-null object\n",
      "sentiment    5648 non-null object\n",
      "dtypes: object(4)\n",
      "memory usage: 220.6+ KB\n",
      "None\n",
      "                       date            time  \\\n",
      "count                  5648            5648   \n",
      "unique                   20            5342   \n",
      "top     2012-10-16 00:00:00  09:01:31-05:00   \n",
      "freq                   1713               4   \n",
      "\n",
      "                                                     text  sentiment  \n",
      "count                                                5648       5648  \n",
      "unique                                               5637          3  \n",
      "top     Ron Paul Won't Endorse <e>Romney</e>, Says Mor...         -1  \n",
      "freq                                                    2       2893  \n"
     ]
    }
   ],
   "source": [
    "print romney_data.info()\n",
    "print romney_data.describe()"
   ]
  },
  {
   "cell_type": "code",
   "execution_count": 169,
   "metadata": {
    "collapsed": false
   },
   "outputs": [],
   "source": [
    "import re\n",
    "\n",
    "def preprocess(data):\n",
    "    \"\"\" preprocess the data\"\"\"\n",
    "    # remove punctuations\n",
    "    punc = ['\\:','\\;','\\?','\\$','\\.','\\(','\\)','\\#']\n",
    "    cond_1 = re.compile('|'.join(punc))\n",
    "    data['text'] = data['text'].apply(lambda x : re.sub(cond_1,'',x))\n",
    "    # remove tags\n",
    "    tags = ['<a>','</a>','<e>','</e>']\n",
    "    cond_2 = re.compile(\"|\".join(tags))\n",
    "    data['text'] = data['text'].apply(lambda x : re.sub(cond_2,'',x))\n",
    "    # remove users\n",
    "    data['text'] = data['text'].apply(lambda x : re.sub(r'\\@\\w+','',x))\n",
    "    # remove hypertext \n",
    "    data['text'] = data['text'].apply(lambda x : re.sub(r'http://','',x))\n",
    "    # remove digits\n",
    "    data['text'] = data['text'].apply(lambda x : re.sub(r'[0-9]+','',x))\n",
    "    # convert to ascii\n",
    "    data['text'] = data['text'].apply(lambda x: x.encode('utf-8'))\n",
    "    \n",
    "    return data\n",
    "\n",
    "obama_data = preprocess(obama_data)\n",
    "romney_data = preprocess(romney_data)"
   ]
  },
  {
   "cell_type": "markdown",
   "metadata": {},
   "source": [
    "# Time"
   ]
  },
  {
   "cell_type": "code",
   "execution_count": 170,
   "metadata": {
    "collapsed": false
   },
   "outputs": [],
   "source": [
    "def process_time(data):\n",
    "    \"\"\" processes time \"\"\"\n",
    "\n",
    "    def extract_date(pattern,string):\n",
    "        temp = re.match(pattern,string)\n",
    "        if temp:\n",
    "            return temp.group(1)\n",
    "        else:\n",
    "            return string\n",
    "    # clean date\n",
    "    date_format_1 = re.compile('\\d+/(\\d{2})/\\d+')\n",
    "    date_format_2 = re.compile('\\d+\\-\\d+\\-(\\d{2})')\n",
    "    date_format_3 = re.compile('(\\d{2})\\-[a-zA-Z]+\\-\\d+')\n",
    "    date_format = [date_format_1] + [date_format_2] + [date_format_3]\n",
    "\n",
    "    # remove whitespace\n",
    "    data['date'] = data['date'].apply(lambda x : x.replace(' ',''))\n",
    "\n",
    "    for i in date_format:\n",
    "        data['date'] = data['date'].apply(lambda x: extract_date(i,x))\n",
    "\n",
    "    def converter(first,second):\n",
    "        if first == 'AM':\n",
    "            return second\n",
    "        else:\n",
    "            val = re.findall('(\\d{1,2})',second)[0]\n",
    "            if int(val) > 12:\n",
    "                val = str(int(val) + 12)\n",
    "            return re.sub('\\d{1,2}',val,second,1)\n",
    "\n",
    "    def extract_time(pattern,string):\n",
    "\n",
    "        temp = re.match(pattern,string)\n",
    "        if temp:\n",
    "            first = temp.group(1)\n",
    "            second = temp.group(2)\n",
    "            third = temp.group(3)\n",
    "\n",
    "            if first is None and third is None:\n",
    "                return second\n",
    "\n",
    "            if first == 'AM' or first == 'PM':\n",
    "                return converter(first,second)\n",
    "            else:\n",
    "                return converter(third,second)\n",
    "\n",
    "    # clean time\n",
    "    time_format_1 = re.compile('(AM|PM)?\\s?(\\d{1,2}:\\d{1,2}:\\d{1,2})\\s?(AM|PM)?')\n",
    "\n",
    "    # remove whitespace\n",
    "    data['time'] = data['time'].apply(lambda x : x.replace(' ',''))\n",
    "\n",
    "    data['time'] = data['time'].apply(lambda x : extract_time(time_format_1,x))\n",
    "    data['time'] = pd.to_datetime(data['time'], format='%H:%M:%S')\n",
    "    \n",
    "    return data"
   ]
  },
  {
   "cell_type": "code",
   "execution_count": 171,
   "metadata": {
    "collapsed": false
   },
   "outputs": [
    {
     "name": "stdout",
     "output_type": "stream",
     "text": [
      "-1    1922\n",
      " 0    1896\n",
      " 1    1653\n",
      "Name: sentiment, dtype: int64\n",
      "-1    2893\n",
      " 0    1680\n",
      " 1    1075\n",
      "Name: sentiment, dtype: int64\n"
     ]
    },
    {
     "data": {
      "text/plain": [
       "<Container object of 10 artists>"
      ]
     },
     "execution_count": 171,
     "metadata": {},
     "output_type": "execute_result"
    },
    {
     "data": {
      "image/png": "[encoded data removed]",
      "text/plain": [
       "<matplotlib.figure.Figure at 0x7f9ec6b5f910>"
      ]
     },
     "metadata": {},
     "output_type": "display_data"
    }
   ],
   "source": [
    "# distribution of sentiment\n",
    "\n",
    "fig,ax = plt.subplots()\n",
    "\n",
    "obama_heights,obama_bins = np.histogram(obama_data['sentiment'])\n",
    "romney_heights,romney_bins = np.histogram(romney_data['sentiment'],bins = obama_bins)\n",
    "\n",
    "print obama_data['sentiment'].value_counts()\n",
    "print romney_data['sentiment'].value_counts()\n",
    "\n",
    "width = (obama_bins[1] - obama_bins[0])/3\n",
    "\n",
    "ax.bar(obama_bins[:-1],obama_heights,width = width,color = 'blue')\n",
    "ax.bar(romney_bins[:-1]+width,romney_heights,width = width, color = 'red')"
   ]
  },
  {
   "cell_type": "code",
   "execution_count": 172,
   "metadata": {
    "collapsed": false,
    "scrolled": true
   },
   "outputs": [
    {
     "data": {
      "text/html": [
       "<div>\n",
       "<table border=\"1\" class=\"dataframe\">\n",
       "  <thead>\n",
       "    <tr style=\"text-align: right;\">\n",
       "      <th></th>\n",
       "      <th>date</th>\n",
       "      <th>time</th>\n",
       "      <th>text</th>\n",
       "      <th>sentiment</th>\n",
       "    </tr>\n",
       "  </thead>\n",
       "  <tbody>\n",
       "    <tr>\n",
       "      <th>0</th>\n",
       "      <td>2012-10-16 00:00:00</td>\n",
       "      <td>10:28:53-05:00</td>\n",
       "      <td>Kirkpatrick, who wore a baseball cap embroider...</td>\n",
       "      <td>0</td>\n",
       "    </tr>\n",
       "    <tr>\n",
       "      <th>1</th>\n",
       "      <td>2012-10-16 00:00:00</td>\n",
       "      <td>10:04:30-05:00</td>\n",
       "      <td>obama debates that Cracker Ass Cracker tonight...</td>\n",
       "      <td>1</td>\n",
       "    </tr>\n",
       "    <tr>\n",
       "      <th>2</th>\n",
       "      <td>2012-10-16 00:00:00</td>\n",
       "      <td>09:50:08-05:00</td>\n",
       "      <td>Youre missing the point  Im afraid you do n...</td>\n",
       "      <td>0</td>\n",
       "    </tr>\n",
       "    <tr>\n",
       "      <th>3</th>\n",
       "      <td>2012-10-16 00:00:00</td>\n",
       "      <td>10:00:16-05:00</td>\n",
       "      <td>I was raised as a Democrat  left the party yea...</td>\n",
       "      <td>-1</td>\n",
       "    </tr>\n",
       "    <tr>\n",
       "      <th>4</th>\n",
       "      <td>2012-10-16 00:00:00</td>\n",
       "      <td>09:48:07-05:00</td>\n",
       "      <td>The Obama camp can't afford to lower expectati...</td>\n",
       "      <td>0</td>\n",
       "    </tr>\n",
       "  </tbody>\n",
       "</table>\n",
       "</div>"
      ],
      "text/plain": [
       "                  date            time  \\\n",
       "0  2012-10-16 00:00:00  10:28:53-05:00   \n",
       "1  2012-10-16 00:00:00  10:04:30-05:00   \n",
       "2  2012-10-16 00:00:00  09:50:08-05:00   \n",
       "3  2012-10-16 00:00:00  10:00:16-05:00   \n",
       "4  2012-10-16 00:00:00  09:48:07-05:00   \n",
       "\n",
       "                                                text sentiment  \n",
       "0  Kirkpatrick, who wore a baseball cap embroider...         0  \n",
       "1  obama debates that Cracker Ass Cracker tonight...         1  \n",
       "2     Youre missing the point  Im afraid you do n...         0  \n",
       "3  I was raised as a Democrat  left the party yea...        -1  \n",
       "4  The Obama camp can't afford to lower expectati...         0  "
      ]
     },
     "execution_count": 172,
     "metadata": {},
     "output_type": "execute_result"
    }
   ],
   "source": [
    "obama_data[:5]"
   ]
  },
  {
   "cell_type": "code",
   "execution_count": 206,
   "metadata": {
    "collapsed": true
   },
   "outputs": [],
   "source": [
    "## IMP - Process Emoticons, better stopwords list, clean hashtags\n",
    "# http://stackoverflow.com/questions/8870261/how-to-split-text-without-spaces-into-list-of-words\n",
    "\n",
    "manual_stopwords_list = ['rt']"
   ]
  },
  {
   "cell_type": "code",
   "execution_count": 275,
   "metadata": {
    "collapsed": false
   },
   "outputs": [],
   "source": [
    "# remove stopwords\n",
    "\n",
    "from nltk.corpus import stopwords\n",
    "\n",
    "stopwords_list = stopwords.words('english') + manual_stopwords_list\n",
    "\n",
    "# stemming\n",
    "from nltk import word_tokenize          \n",
    "from nltk.stem import WordNetLemmatizer\n",
    "from nltk.stem.snowball import SnowballStemmer\n",
    "class Tokenizer(object):\n",
    "    def __init__(self):\n",
    "        self.wnl = WordNetLemmatizer()\n",
    "    def __call__(self, doc):\n",
    "        return [self.wnl.lemmatize(t) for t in word_tokenize(doc)]"
   ]
  },
  {
   "cell_type": "markdown",
   "metadata": {
    "collapsed": true
   },
   "source": [
    "# Learning"
   ]
  },
  {
   "cell_type": "code",
   "execution_count": 286,
   "metadata": {
    "collapsed": false
   },
   "outputs": [
    {
     "name": "stdout",
     "output_type": "stream",
     "text": [
      "(5648,) (5648,)\n"
     ]
    }
   ],
   "source": [
    "from sklearn.pipeline import Pipeline\n",
    "from sklearn.feature_extraction.text import CountVectorizer,TfidfTransformer\n",
    "from sklearn.naive_bayes import MultinomialNB\n",
    "from sklearn.svm import LinearSVC\n",
    "from sklearn.linear_model import SGDClassifier\n",
    "from sklearn.model_selection import cross_val_score,cross_val_predict\n",
    "from sklearn.model_selection import KFold\n",
    "from sklearn.decomposition import TruncatedSVD\n",
    "\n",
    "def get_X_y(data):\n",
    "    return data['text'],data['sentiment'].astype(int)\n",
    "\n",
    "X,y = get_X_y(romney_data)\n",
    "print X.shape,y.shape"
   ]
  },
  {
   "cell_type": "code",
   "execution_count": 287,
   "metadata": {
    "collapsed": false
   },
   "outputs": [],
   "source": [
    "stopwords_list = []\n",
    "# create a pipeline\n",
    "text_vector = Pipeline([('vect', CountVectorizer(tokenizer = Tokenizer(),stop_words = stopwords_list,ngram_range = (1,2),max_features=10000)),\n",
    "                    ('tfidf',TfidfTransformer())])\n",
    "svd_transform = TruncatedSVD(n_components = 1000,n_iter = 5)"
   ]
  },
  {
   "cell_type": "code",
   "execution_count": 288,
   "metadata": {
    "collapsed": false,
    "scrolled": true
   },
   "outputs": [],
   "source": [
    "# transform the data\n",
    "X = text_vector.fit_transform(X)\n",
    "X_reduced = svd_transform.fit_transform(X)"
   ]
  },
  {
   "cell_type": "code",
   "execution_count": 289,
   "metadata": {
    "collapsed": false,
    "scrolled": true
   },
   "outputs": [],
   "source": [
    "from sklearn.metrics import classification_report,accuracy_score\n",
    "\n",
    "classifier_scores = dict()\n",
    "\n",
    "def naive_classifier():\n",
    "    return 'Naive_Bayes',MultinomialNB()\n",
    "\n",
    "def svm_classifier():\n",
    "    return 'Linear_SVM',LinearSVC()\n",
    "\n",
    "def sgd_classifier():\n",
    "    return 'SGD',SGDClassifier()\n",
    "\n",
    "classifiers_list = [naive_classifier(),svm_classifier(),sgd_classifier()]\n",
    "\n",
    "for clf_name,clf in classifiers_list:\n",
    "    # dont use reduced matrix for naive bayes\n",
    "    if clf_name != 'Naive_Bayes':\n",
    "            X = X_reduced\n",
    "    classifier_scores[clf_name] = dict()\n",
    "    classifier_scores[clf_name]['classification_pred'] = cross_val_predict(clf,X,y,cv = 10)"
   ]
  },
  {
   "cell_type": "code",
   "execution_count": 290,
   "metadata": {
    "collapsed": false
   },
   "outputs": [
    {
     "name": "stdout",
     "output_type": "stream",
     "text": [
      "Classifier - Naive_Bayes\n",
      "accuracy is 0.561437677054\n",
      "             precision    recall  f1-score   support\n",
      "\n",
      "         -1       0.56      0.95      0.70      2893\n",
      "          0       0.51      0.15      0.24      1680\n",
      "          1       0.73      0.16      0.26      1075\n",
      "\n",
      "avg / total       0.58      0.56      0.48      5648\n",
      "\n",
      "\n",
      "\n",
      "Classifier - Linear_SVM\n",
      "accuracy is 0.566395184136\n",
      "             precision    recall  f1-score   support\n",
      "\n",
      "         -1       0.63      0.75      0.69      2893\n",
      "          0       0.42      0.35      0.39      1680\n",
      "          1       0.53      0.41      0.46      1075\n",
      "\n",
      "avg / total       0.55      0.57      0.55      5648\n",
      "\n",
      "\n",
      "\n",
      "Classifier - SGD\n",
      "accuracy is 0.556480169972\n",
      "             precision    recall  f1-score   support\n",
      "\n",
      "         -1       0.64      0.71      0.67      2893\n",
      "          0       0.43      0.37      0.40      1680\n",
      "          1       0.47      0.45      0.46      1075\n",
      "\n",
      "avg / total       0.55      0.56      0.55      5648\n",
      "\n",
      "\n",
      "\n"
     ]
    }
   ],
   "source": [
    " for clf_name,_ in classifiers_list:\n",
    "        print 'Classifier - {}'.format(clf_name)\n",
    "        print 'accuracy is {}'.format(accuracy_score(y,classifier_scores[clf_name]['classification_pred']))\n",
    "        print classification_report(y,classifier_scores[clf_name]['classification_pred'])\n",
    "        print '\\n'"
   ]
  },
  {
   "cell_type": "markdown",
   "metadata": {},
   "source": [
    "# Word Vectors"
   ]
  },
  {
   "cell_type": "code",
   "execution_count": 18,
   "metadata": {
    "collapsed": true
   },
   "outputs": [],
   "source": [
    "import gensim\n",
    "\n",
    "embeddings_dict = {}\n",
    "f = open(os.path.join('glove.twitter.27B', 'glove.twitter.27B.100d.txt'))\n",
    "for line in f:\n",
    "    values = line.split()\n",
    "    word = values[0]\n",
    "    coefs = np.asarray(values[1:], dtype='float32')\n",
    "    embeddings_dict[word] = coefs\n",
    "f.close()"
   ]
  },
  {
   "cell_type": "code",
   "execution_count": 164,
   "metadata": {
    "collapsed": true
   },
   "outputs": [],
   "source": [
    "X,y = get_X_y(obama_data)"
   ]
  },
  {
   "cell_type": "code",
   "execution_count": 20,
   "metadata": {
    "collapsed": true
   },
   "outputs": [],
   "source": [
    "class EmbeddingVectorizer(CountVectorizer):\n",
    "    def __init__(self,**kwargs):\n",
    "        self.embeddings_dict = kwargs.pop('word2vec')\n",
    "        # if a text is empty we should return a vector of zeros\n",
    "        # with the same dimensionality as all the other vectors\n",
    "        self.dim = 100\n",
    "        super(EmbeddingVectorizer,self).__init__(**kwargs)\n",
    "        \n",
    "    def fit(self,X,y):\n",
    "        return self\n",
    "\n",
    "    def transform(self, X):\n",
    "        return np.array([\n",
    "            np.mean([self.embeddings_dict[w] for w in words if w in self.embeddings_dict]\n",
    "                    or [np.zeros(self.dim)], axis=0)\n",
    "            for words in X\n",
    "        ])\n",
    "    \n",
    "    def fit_transform(self,X,y):\n",
    "        return self.fit(X,y).transform(X)"
   ]
  },
  {
   "cell_type": "code",
   "execution_count": 21,
   "metadata": {
    "collapsed": false
   },
   "outputs": [],
   "source": [
    "# convert to word vectors\n",
    "text_vector = Pipeline([('vect', EmbeddingVectorizer(word2vec = embeddings_dict,tokenizer = Tokenizer(),stop_words = stopwords_list)),\n",
    "                ('classifier',LinearSVC())])"
   ]
  },
  {
   "cell_type": "code",
   "execution_count": 22,
   "metadata": {
    "collapsed": false,
    "scrolled": true
   },
   "outputs": [
    {
     "name": "stderr",
     "output_type": "stream",
     "text": [
      "/usr/local/lib/python2.7/dist-packages/sklearn/utils/deprecation.py:70: DeprecationWarning: Function transform is deprecated; Support to use estimators as feature selectors will be removed in version 0.19. Use SelectFromModel instead.\n",
      "  warnings.warn(msg, category=DeprecationWarning)\n",
      "/usr/local/lib/python2.7/dist-packages/sklearn/utils/deprecation.py:70: DeprecationWarning: Function transform is deprecated; Support to use estimators as feature selectors will be removed in version 0.19. Use SelectFromModel instead.\n",
      "  warnings.warn(msg, category=DeprecationWarning)\n",
      "/usr/local/lib/python2.7/dist-packages/sklearn/utils/deprecation.py:70: DeprecationWarning: Function transform is deprecated; Support to use estimators as feature selectors will be removed in version 0.19. Use SelectFromModel instead.\n",
      "  warnings.warn(msg, category=DeprecationWarning)\n",
      "/usr/local/lib/python2.7/dist-packages/sklearn/utils/deprecation.py:70: DeprecationWarning: Function transform is deprecated; Support to use estimators as feature selectors will be removed in version 0.19. Use SelectFromModel instead.\n",
      "  warnings.warn(msg, category=DeprecationWarning)\n",
      "/usr/local/lib/python2.7/dist-packages/sklearn/utils/deprecation.py:70: DeprecationWarning: Function transform is deprecated; Support to use estimators as feature selectors will be removed in version 0.19. Use SelectFromModel instead.\n",
      "  warnings.warn(msg, category=DeprecationWarning)\n",
      "/usr/local/lib/python2.7/dist-packages/sklearn/utils/deprecation.py:70: DeprecationWarning: Function transform is deprecated; Support to use estimators as feature selectors will be removed in version 0.19. Use SelectFromModel instead.\n",
      "  warnings.warn(msg, category=DeprecationWarning)\n",
      "/usr/local/lib/python2.7/dist-packages/sklearn/utils/deprecation.py:70: DeprecationWarning: Function transform is deprecated; Support to use estimators as feature selectors will be removed in version 0.19. Use SelectFromModel instead.\n",
      "  warnings.warn(msg, category=DeprecationWarning)\n",
      "/usr/local/lib/python2.7/dist-packages/sklearn/utils/deprecation.py:70: DeprecationWarning: Function transform is deprecated; Support to use estimators as feature selectors will be removed in version 0.19. Use SelectFromModel instead.\n",
      "  warnings.warn(msg, category=DeprecationWarning)\n",
      "/usr/local/lib/python2.7/dist-packages/sklearn/utils/deprecation.py:70: DeprecationWarning: Function transform is deprecated; Support to use estimators as feature selectors will be removed in version 0.19. Use SelectFromModel instead.\n",
      "  warnings.warn(msg, category=DeprecationWarning)\n"
     ]
    },
    {
     "name": "stdout",
     "output_type": "stream",
     "text": [
      "0.545231788521\n"
     ]
    },
    {
     "name": "stderr",
     "output_type": "stream",
     "text": [
      "/usr/local/lib/python2.7/dist-packages/sklearn/utils/deprecation.py:70: DeprecationWarning: Function transform is deprecated; Support to use estimators as feature selectors will be removed in version 0.19. Use SelectFromModel instead.\n",
      "  warnings.warn(msg, category=DeprecationWarning)\n"
     ]
    }
   ],
   "source": [
    "k_fold = KFold(10)\n",
    "\n",
    "scores = []\n",
    "for train,test in k_fold.split(X,y):\n",
    "    text_vector.fit_transform(X[train],y[train])\n",
    "    pred_val = text_vector.predict(X[test])\n",
    "    scores.append(np.mean(pred_val != y[test]))\n",
    "\n",
    "print sum(scores)/len(scores)"
   ]
  },
  {
   "cell_type": "code",
   "execution_count": null,
   "metadata": {
    "collapsed": false
   },
   "outputs": [],
   "source": []
  },
  {
   "cell_type": "code",
   "execution_count": null,
   "metadata": {
    "collapsed": false
   },
   "outputs": [],
   "source": []
  },
  {
   "cell_type": "code",
   "execution_count": null,
   "metadata": {
    "collapsed": false
   },
   "outputs": [],
   "source": []
  },
  {
   "cell_type": "code",
   "execution_count": null,
   "metadata": {
    "collapsed": true
   },
   "outputs": [],
   "source": []
  }
 ],
 "metadata": {
  "kernelspec": {
   "display_name": "Python 2",
   "language": "python",
   "name": "python2"
  },
  "language_info": {
   "codemirror_mode": {
    "name": "ipython",
    "version": 2
   },
   "file_extension": ".py",
   "mimetype": "text/x-python",
   "name": "python",
   "nbconvert_exporter": "python",
   "pygments_lexer": "ipython2",
   "version": "2.7.6"
  }
 },
 "nbformat": 4,
 "nbformat_minor": 0
}
